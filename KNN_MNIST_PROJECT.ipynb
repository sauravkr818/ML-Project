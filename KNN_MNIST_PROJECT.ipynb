{
  "nbformat": 4,
  "nbformat_minor": 0,
  "metadata": {
    "colab": {
      "name": "KNN MNIST PROJECT",
      "provenance": [],
      "collapsed_sections": [],
      "authorship_tag": "ABX9TyMXRhY038ac5HHVnbgaLIeR",
      "include_colab_link": true
    },
    "kernelspec": {
      "name": "python3",
      "display_name": "Python 3"
    },
    "language_info": {
      "name": "python"
    }
  },
  "cells": [
    {
      "cell_type": "markdown",
      "metadata": {
        "id": "view-in-github",
        "colab_type": "text"
      },
      "source": [
        "<a href=\"https://colab.research.google.com/github/sauravkr818/ML-Project/blob/main/KNN_MNIST_PROJECT.ipynb\" target=\"_parent\"><img src=\"https://colab.research.google.com/assets/colab-badge.svg\" alt=\"Open In Colab\"/></a>"
      ]
    },
    {
      "cell_type": "code",
      "source": [
        ""
      ],
      "metadata": {
        "id": "_bslj41-9126"
      },
      "execution_count": null,
      "outputs": []
    },
    {
      "cell_type": "code",
      "execution_count": null,
      "metadata": {
        "id": "TpOpL-xiBF_N"
      },
      "outputs": [],
      "source": [
        "import numpy as np\n",
        "import operator \n",
        "from operator import itemgetter"
      ]
    },
    {
      "cell_type": "markdown",
      "source": [
        "**Calculate euclidian distance**\n",
        "\n",
        "---\n",
        "\n"
      ],
      "metadata": {
        "id": "uSF2eURSG7hZ"
      }
    },
    {
      "cell_type": "code",
      "source": [
        "def euc_dist(x1, x2):\n",
        "    return np.sqrt(np.sum((x1-x2)**2))"
      ],
      "metadata": {
        "id": "7GivFfUQBTCN"
      },
      "execution_count": null,
      "outputs": []
    },
    {
      "cell_type": "markdown",
      "source": [
        "**KNN Class to train**\n",
        "\n",
        "---\n",
        "\n"
      ],
      "metadata": {
        "id": "zSxCW0UZG5Ch"
      }
    },
    {
      "cell_type": "code",
      "source": [
        "class KNN:\n",
        "    def __init__(self, K=3):\n",
        "        self.K = K\n",
        "    def fit(self, x_train, y_train):\n",
        "        self.X_train = x_train\n",
        "        self.Y_train = y_train"
      ],
      "metadata": {
        "id": "Eu6cquhGBVe2"
      },
      "execution_count": null,
      "outputs": []
    },
    {
      "cell_type": "markdown",
      "source": [
        "**Prediction**\n",
        "\n",
        "---\n",
        "\n"
      ],
      "metadata": {
        "id": "ux6Ro1BDHLpB"
      }
    },
    {
      "cell_type": "code",
      "source": [
        "def predict(self, X_test):\n",
        "    predictions = [] \n",
        "    for i in range(len(X_test)):\n",
        "        dist = np.array([euc_dist(X_test[i], x_t) for x_t in   \n",
        "        self.X_train])\n",
        "        dist_sorted = dist.argsort()[:self.K]\n",
        "        neigh_count = {}\n",
        "        for idx in dist_sorted:\n",
        "            if self.Y_train[idx] in neigh_count:\n",
        "                neigh_count[self.Y_train[idx]] += 1\n",
        "            else:\n",
        "                neigh_count[self.Y_train[idx]] = 1\n",
        "        sorted_neigh_count = sorted(neigh_count.items(),    \n",
        "        key=operator.itemgetter(1), reverse=True)\n",
        "        predictions.append(sorted_neigh_count[0][0]) \n",
        "    return predictions"
      ],
      "metadata": {
        "id": "Cuq0mCevBkLO"
      },
      "execution_count": null,
      "outputs": []
    },
    {
      "cell_type": "code",
      "source": [
        "from sklearn.datasets import load_digits\n",
        "mnist = load_digits()\n",
        "print(mnist.data.shape)\n",
        "X = mnist.data \n",
        "y = mnist.target"
      ],
      "metadata": {
        "colab": {
          "base_uri": "https://localhost:8080/"
        },
        "id": "qjDEygegBnlk",
        "outputId": "cdb4dab1-67b0-49cb-a412-014c9ab993d6"
      },
      "execution_count": null,
      "outputs": [
        {
          "output_type": "stream",
          "name": "stdout",
          "text": [
            "(1797, 64)\n"
          ]
        }
      ]
    },
    {
      "cell_type": "markdown",
      "source": [
        "**Train and Test split**\n",
        "\n",
        "---\n",
        "\n"
      ],
      "metadata": {
        "id": "jQQhn7-eHQok"
      }
    },
    {
      "cell_type": "code",
      "source": [
        "from sklearn.model_selection import train_test_split\n",
        "X_train, X_test, y_train, y_test = train_test_split(X, y, test_size=0.25, random_state=123)\n",
        "print(X_train.shape, y_train.shape)\n",
        "print(X_test.shape, y_test.shape)\n",
        "print(np.unique(y_train,return_counts=True))\n",
        "print(np.unique(y_test,return_counts=True))"
      ],
      "metadata": {
        "colab": {
          "base_uri": "https://localhost:8080/"
        },
        "id": "c4c6GFyIBx1H",
        "outputId": "88a96c8b-95e4-482a-c40c-766f6f5e7966"
      },
      "execution_count": null,
      "outputs": [
        {
          "output_type": "stream",
          "name": "stdout",
          "text": [
            "(1347, 64) (1347,)\n",
            "(450, 64) (450,)\n",
            "(array([0, 1, 2, 3, 4, 5, 6, 7, 8, 9]), array([127, 140, 136, 143, 129, 134, 133, 138, 129, 138]))\n",
            "(array([0, 1, 2, 3, 4, 5, 6, 7, 8, 9]), array([51, 42, 41, 40, 52, 48, 48, 41, 45, 42]))\n"
          ]
        }
      ]
    },
    {
      "cell_type": "markdown",
      "source": [
        "**Checking Accuracy**\n",
        "\n",
        "---\n",
        "\n"
      ],
      "metadata": {
        "id": "xamd-bdUHaia"
      }
    },
    {
      "cell_type": "code",
      "source": [
        "from sklearn.metrics import precision_recall_fscore_support\n",
        "from sklearn.metrics import accuracy_score\n",
        "#from sklearn.neighbors import KNeighborsClassifier\n",
        "kVals = np.arange(3,100,2)\n",
        "accuracies = []\n",
        "for k in kVals:\n",
        "  model = KNN(k)\n",
        "  model.fit(X_train, y_train)\n",
        "  pred = model.predict(X_test)\n",
        "  acc = accuracy_score(y_test, pred)\n",
        "  accuracies.append(acc)\n",
        "  print(\"K = \"+str(k)+\"; Accuracy: \"+str(acc))\n",
        "max_index = accuracies.index(max(accuracies))\n",
        "print(max_index)"
      ],
      "metadata": {
        "colab": {
          "base_uri": "https://localhost:8080/"
        },
        "id": "N_ny8rEeB2R_",
        "outputId": "6ab54eb8-7b82-406d-8f51-25393b2a55c7"
      },
      "execution_count": null,
      "outputs": [
        {
          "output_type": "stream",
          "name": "stdout",
          "text": [
            "K = 3; Accuracy: 0.9777777777777777\n",
            "K = 5; Accuracy: 0.9755555555555555\n",
            "K = 7; Accuracy: 0.9755555555555555\n",
            "K = 9; Accuracy: 0.9755555555555555\n",
            "K = 11; Accuracy: 0.9711111111111111\n",
            "K = 13; Accuracy: 0.9688888888888889\n",
            "K = 15; Accuracy: 0.9666666666666667\n",
            "K = 17; Accuracy: 0.9666666666666667\n",
            "K = 19; Accuracy: 0.9644444444444444\n",
            "K = 21; Accuracy: 0.9666666666666667\n",
            "K = 23; Accuracy: 0.9644444444444444\n",
            "K = 25; Accuracy: 0.9644444444444444\n",
            "K = 27; Accuracy: 0.9666666666666667\n",
            "K = 29; Accuracy: 0.96\n",
            "K = 31; Accuracy: 0.96\n",
            "K = 33; Accuracy: 0.96\n",
            "K = 35; Accuracy: 0.9577777777777777\n",
            "K = 37; Accuracy: 0.9577777777777777\n",
            "K = 39; Accuracy: 0.9577777777777777\n",
            "K = 41; Accuracy: 0.9533333333333334\n",
            "K = 43; Accuracy: 0.9511111111111111\n",
            "K = 45; Accuracy: 0.9488888888888889\n",
            "K = 47; Accuracy: 0.9444444444444444\n",
            "K = 49; Accuracy: 0.94\n",
            "K = 51; Accuracy: 0.9355555555555556\n",
            "K = 53; Accuracy: 0.9355555555555556\n",
            "K = 55; Accuracy: 0.9333333333333333\n",
            "K = 57; Accuracy: 0.9333333333333333\n",
            "K = 59; Accuracy: 0.9288888888888889\n",
            "K = 61; Accuracy: 0.9311111111111111\n",
            "K = 63; Accuracy: 0.9333333333333333\n",
            "K = 65; Accuracy: 0.9311111111111111\n",
            "K = 67; Accuracy: 0.9266666666666666\n",
            "K = 69; Accuracy: 0.9266666666666666\n",
            "K = 71; Accuracy: 0.9288888888888889\n",
            "K = 73; Accuracy: 0.9288888888888889\n",
            "K = 75; Accuracy: 0.9266666666666666\n",
            "K = 77; Accuracy: 0.9244444444444444\n",
            "K = 79; Accuracy: 0.92\n",
            "K = 81; Accuracy: 0.9222222222222223\n",
            "K = 83; Accuracy: 0.9177777777777778\n",
            "K = 85; Accuracy: 0.9177777777777778\n",
            "K = 87; Accuracy: 0.9177777777777778\n",
            "K = 89; Accuracy: 0.9133333333333333\n",
            "K = 91; Accuracy: 0.9088888888888889\n",
            "K = 93; Accuracy: 0.9088888888888889\n",
            "K = 95; Accuracy: 0.9066666666666666\n",
            "K = 97; Accuracy: 0.9088888888888889\n",
            "K = 99; Accuracy: 0.9066666666666666\n",
            "0\n"
          ]
        }
      ]
    },
    {
      "cell_type": "markdown",
      "source": [
        ""
      ],
      "metadata": {
        "id": "Y_ighVVrHY36"
      }
    },
    {
      "cell_type": "code",
      "source": [
        "from matplotlib import pyplot as plt \n",
        "plt.plot(kVals, accuracies) \n",
        "plt.xlabel(\"K Value\") \n",
        "plt.ylabel(\"Accuracy\")"
      ],
      "metadata": {
        "colab": {
          "base_uri": "https://localhost:8080/",
          "height": 298
        },
        "id": "hmwIjUVNCAq6",
        "outputId": "03219263-f3e3-472b-e2cf-8f217ab1a7ac"
      },
      "execution_count": null,
      "outputs": [
        {
          "output_type": "execute_result",
          "data": {
            "text/plain": [
              "Text(0, 0.5, 'Accuracy')"
            ]
          },
          "metadata": {},
          "execution_count": 15
        },
        {
          "output_type": "display_data",
          "data": {
            "text/plain": [
              "<Figure size 432x288 with 1 Axes>"
            ],
            "image/png": "[encoded data removed]"
          },
          "metadata": {
            "needs_background": "light"
          }
        }
      ]
    }
  ]
}